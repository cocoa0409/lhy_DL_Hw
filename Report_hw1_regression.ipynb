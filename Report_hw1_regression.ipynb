{
  "nbformat": 4,
  "nbformat_minor": 0,
  "metadata": {
    "colab": {
      "name": "Report_hw1_regression.ipynb",
      "provenance": [],
      "collapsed_sections": [],
      "authorship_tag": "ABX9TyPSuoitJJHy1+fwSwlmyIKa",
      "include_colab_link": true
    },
    "kernelspec": {
      "name": "python3",
      "display_name": "Python 3"
    },
    "accelerator": "GPU"
  },
  "cells": [
    {
      "cell_type": "markdown",
      "metadata": {
        "id": "view-in-github",
        "colab_type": "text"
      },
      "source": [
        "<a href=\"https://colab.research.google.com/github/cocoa0409/lhy_DL_Hw/blob/master/Report_hw1_regression.ipynb\" target=\"_parent\"><img src=\"https://colab.research.google.com/assets/colab-badge.svg\" alt=\"Open In Colab\"/></a>"
      ]
    },
    {
      "cell_type": "markdown",
      "metadata": {
        "id": "SsG1xtkRjWkz",
        "colab_type": "text"
      },
      "source": [
        "# **Homework 1: Linear Regression**"
      ]
    },
    {
      "cell_type": "markdown",
      "metadata": {
        "id": "_urkqt9tjjEs",
        "colab_type": "text"
      },
      "source": [
        "# **Load 'train.csv'**\n",
        "train.csv 的資料為 12 個月中，每個月取 20 天，每天 24 小時的資料(每小時資料有 18 個 features)。"
      ]
    },
    {
      "cell_type": "code",
      "metadata": {
        "id": "030nuNhpj3Zx",
        "colab_type": "code",
        "outputId": "08cfcfb8-0a29-4fe0-e78c-aa4cd7106673",
        "colab": {
          "base_uri": "https://localhost:8080/",
          "height": 153
        }
      },
      "source": [
        "import sys\n",
        "import pandas as pd\n",
        "import numpy as np\n",
        "from google.colab import drive \n",
        "!gdown --id '1wNKAxQ29G15kgpBy_asjTcZRRgmsCZRm' --output Hw1_data.zip\n",
        "!unzip Hw1_data.zip\n",
        "!ls"
      ],
      "execution_count": 0,
      "outputs": [
        {
          "output_type": "stream",
          "text": [
            "Downloading...\n",
            "From: https://drive.google.com/uc?id=1wNKAxQ29G15kgpBy_asjTcZRRgmsCZRm\n",
            "To: /content/Hw1_data.zip\n",
            "\r  0% 0.00/177k [00:00<?, ?B/s]\r100% 177k/177k [00:00<00:00, 67.0MB/s]\n",
            "Archive:  Hw1_data.zip\n",
            "  inflating: test.csv                \n",
            "  inflating: train.csv               \n",
            "Hw1_data.zip  sample_data  test.csv  train.csv\n"
          ],
          "name": "stdout"
        }
      ]
    },
    {
      "cell_type": "markdown",
      "metadata": {
        "id": "FqToR2DGmc9-",
        "colab_type": "text"
      },
      "source": [
        "# **Extract Features (1)**\n",
        "![圖片說明](https://drive.google.com/uc?id=1LyaqD4ojX07oe5oDzPO99l9ts5NRyArH)\n",
        "![圖片說明](https://drive.google.com/uc?id=1ZroBarcnlsr85gibeqEF-MtY13xJTG47)\n",
        "\n",
        "將原始 4320 * 18 的資料依照每個月分重組成 12 個 18 (features) * 480 (hours) 的資料。 "
      ]
    },
    {
      "cell_type": "code",
      "metadata": {
        "id": "DF2dLGD7lj72",
        "colab_type": "code",
        "colab": {}
      },
      "source": [
        "#1、读取文件\n",
        "# data = pd.read_csv('gdrive/My Drive/hw1-regression/train.csv', header = None, encoding = 'big5')\n",
        "data = pd.read_csv('./train.csv', encoding = 'big5')\n",
        "data = data.iloc[:, 3:]\n",
        "data[data == 'NR'] = 0\n",
        "raw_data = data.to_numpy()\n",
        "\n",
        "#2、整理格式\n",
        "month_data = {}\n",
        "for month in range(12):\n",
        "    sample = np.empty([18, 480])\n",
        "    for day in range(20):\n",
        "        sample[:, day * 24 : (day + 1) * 24] = raw_data[18 * (20 * month + day) : 18 * (20 * month + day + 1), :]\n",
        "    month_data[month] = sample\n",
        "\n",
        "\n",
        "# 整理后的文件month_data不再改动,所有不同的预测方式均从month_data提取数据"
      ],
      "execution_count": 0,
      "outputs": []
    },
    {
      "cell_type": "markdown",
      "metadata": {
        "id": "NsDGQfjkml3K",
        "colab_type": "text"
      },
      "source": [
        "# **Extract Features (2)**\n",
        "![alt text](https://drive.google.com/uc?id=1wKoPuaRHoX682LMiBgIoOP4PDyNKsJLK)\n",
        "![alt text](https://drive.google.com/uc?id=1FRWWiXQ-Qh0i9tyx0LiugHYF_xDdkhLN)\n",
        "\n",
        "每個月會有 480hrs，每 9 小時形成一個 data，每個月會有 471 個 data，故總資料數為 471 * 12 筆，而每筆 data 有 9 * 18 的 features (一小時 18 個 features * 9 小時)。\n",
        "\n",
        "對應的 target 則有 471 * 12 個(第 10 個小時的 PM2.5)"
      ]
    },
    {
      "cell_type": "code",
      "metadata": {
        "id": "9pIVkzyDl2OQ",
        "colab_type": "code",
        "colab": {}
      },
      "source": [
        "x = np.empty([12 * 471, 18 * 9], dtype = float)\n",
        "y = np.empty([12 * 471, 1], dtype = float)\n",
        "for month in range(12):\n",
        "    for day in range(20):\n",
        "        for hour in range(24):\n",
        "            if day == 19 and hour > 14:\n",
        "                continue\n",
        "            x[month * 471 + day * 24 + hour, :] = month_data[month][:,day * 24 + hour : day * 24 + hour + 9].reshape(1, -1) #vector dim:18*9 (9 9 9 9 9 9 9 9 9 9 9 9 9 9 9 9 9 9)\n",
        "            y[month * 471 + day * 24 + hour, 0] = month_data[month][9, day * 24 + hour + 9] #value\n",
        "\n",
        "mean_x = np.mean(x, axis = 0) #18 * 9 \n",
        "std_x = np.std(x, axis = 0) #18 * 9 \n",
        "for i in range(len(x)): #12 * 471\n",
        "    for j in range(len(x[0])): #18 * 9 \n",
        "        if std_x[j] != 0:\n",
        "            x[i][j] = (x[i][j] - mean_x[j]) / std_x[j]"
      ],
      "execution_count": 0,
      "outputs": []
    },
    {
      "cell_type": "markdown",
      "metadata": {
        "id": "0UqjGLANuPyu",
        "colab_type": "text"
      },
      "source": [
        "#**Split Training Data Into \"train_set\" and \"validation_set\"**\n",
        "這部分是針對作業中 report 的第二題、第三題做的簡單示範，以生成比較中用來訓練的 train_set 和不會被放入訓練、只是用來驗證的 validation_set。"
      ]
    },
    {
      "cell_type": "code",
      "metadata": {
        "id": "nql2R1J9u5Yh",
        "colab_type": "code",
        "colab": {}
      },
      "source": [
        "import math\n",
        "x_train_set = x[: math.floor(len(x) * 0.8), :]\n",
        "y_train_set = y[: math.floor(len(y) * 0.8), :]\n",
        "x_validation = x[math.floor(len(x) * 0.8): , :]\n",
        "y_validation = y[math.floor(len(y) * 0.8): , :]"
      ],
      "execution_count": 0,
      "outputs": []
    },
    {
      "cell_type": "markdown",
      "metadata": {
        "id": "BbCwd-RivIfM",
        "colab_type": "text"
      },
      "source": [
        "# **Training**\n",
        "![alt text](https://drive.google.com/uc?id=1xIXvqZ4EGgmxrp7c9r0LOVbcvd4d9H4N)\n",
        "![alt text](https://drive.google.com/uc?id=1S42g06ON5oJlV2f9RukxawjbE4NpsaB6)\n",
        "![alt text](https://drive.google.com/uc?id=1BbXu-oPB9EZBHDQ12YCkYqtyAIil3bGj)\n",
        "\n",
        "(和上圖不同處: 下面的 code 採用 Root Mean Square Error)\n",
        "\n",
        "因為常數項的存在，所以 dimension (dim) 需要多加一欄；eps 項是避免 adagrad 的分母為 0 而加的極小數值。\n",
        "\n",
        "每一個 dimension (dim) 會對應到各自的 gradient, weight (w)，透過一次次的 iteration (iter_time) 學習。"
      ]
    },
    {
      "cell_type": "code",
      "metadata": {
        "id": "uU6iQl-LvNzS",
        "colab_type": "code",
        "outputId": "b4074db8-e2d7-450d-f1a3-87fdaa0c1d6b",
        "colab": {
          "base_uri": "https://localhost:8080/",
          "height": 187
        }
      },
      "source": [
        "dim = 18 * 9 + 1\n",
        "w = np.zeros([dim, 1])\n",
        "x = np.concatenate((np.ones([12 * 471, 1]), x), axis = 1).astype(float)\n",
        "learning_rate = 100\n",
        "iter_time = 1000\n",
        "adagrad = np.zeros([dim, 1])\n",
        "eps = 0.0000000001\n",
        "for t in range(iter_time):\n",
        "    loss = np.sqrt(np.sum(np.power(np.dot(x, w) - y, 2))/471/12)#rmse\n",
        "    if(t%100==0):\n",
        "        print(str(t) + \":\" + str(loss))\n",
        "    gradient = 2 * np.dot(x.transpose(), np.dot(x, w) - y) #dim*1\n",
        "    adagrad += gradient ** 2\n",
        "    w = w - learning_rate * gradient / np.sqrt(adagrad + eps)\n",
        "np.save('weight.npy', w)"
      ],
      "execution_count": 0,
      "outputs": [
        {
          "output_type": "stream",
          "text": [
            "0:27.071214829194115\n",
            "100:33.78905859777454\n",
            "200:19.91375129819709\n",
            "300:13.53106819368969\n",
            "400:10.64546615844617\n",
            "500:9.277353455475065\n",
            "600:8.5180420459565\n",
            "700:8.014061987588422\n",
            "800:7.63675682477569\n",
            "900:7.3365637403711235\n"
          ],
          "name": "stdout"
        }
      ]
    },
    {
      "cell_type": "markdown",
      "metadata": {
        "id": "VBZJtryYwqIo",
        "colab_type": "text"
      },
      "source": [
        "# **Testing**\n",
        "![alt text](https://drive.google.com/uc?id=1165ETzZyE6HStqKvgR0gKrJwgFLK6-CW)\n",
        "\n",
        "載入 test data，並且以相似於訓練資料預先處理和特徵萃取的方式處理，使 test data 形成 240 個維度為 18 * 9 + 1 的資料。"
      ]
    },
    {
      "cell_type": "code",
      "metadata": {
        "id": "qFZtWF1owr0k",
        "colab_type": "code",
        "outputId": "a4693ab5-1d2d-4ef3-a68b-0efab1dca3a2",
        "colab": {
          "base_uri": "https://localhost:8080/",
          "height": 204
        }
      },
      "source": [
        "# testdata = pd.read_csv('gdrive/My Drive/hw1-regression/test.csv', header = None, encoding = 'big5')\n",
        "testdata = pd.read_csv('./test.csv', header = None, encoding = 'big5')\n",
        "test_data = testdata.iloc[:, 2:]\n",
        "test_data[test_data == 'NR'] = 0\n",
        "test_data = test_data.to_numpy()\n",
        "test_x = np.empty([240, 18*9], dtype = float)\n",
        "for i in range(240):\n",
        "    test_x[i, :] = test_data[18 * i: 18* (i + 1), :].reshape(1, -1)\n",
        "for i in range(len(test_x)):\n",
        "    for j in range(len(test_x[0])):\n",
        "        if std_x[j] != 0:\n",
        "            test_x[i][j] = (test_x[i][j] - mean_x[j]) / std_x[j]\n",
        "test_x = np.concatenate((np.ones([240, 1]), test_x), axis = 1).astype(float)"
      ],
      "execution_count": 0,
      "outputs": [
        {
          "output_type": "stream",
          "text": [
            "/usr/local/lib/python3.6/dist-packages/ipykernel_launcher.py:4: SettingWithCopyWarning: \n",
            "A value is trying to be set on a copy of a slice from a DataFrame.\n",
            "Try using .loc[row_indexer,col_indexer] = value instead\n",
            "\n",
            "See the caveats in the documentation: https://pandas.pydata.org/pandas-docs/stable/user_guide/indexing.html#returning-a-view-versus-a-copy\n",
            "  after removing the cwd from sys.path.\n",
            "/usr/local/lib/python3.6/dist-packages/pandas/core/frame.py:2986: SettingWithCopyWarning: \n",
            "A value is trying to be set on a copy of a slice from a DataFrame\n",
            "\n",
            "See the caveats in the documentation: https://pandas.pydata.org/pandas-docs/stable/user_guide/indexing.html#returning-a-view-versus-a-copy\n",
            "  self._where(-key, value, inplace=True)\n"
          ],
          "name": "stderr"
        }
      ]
    },
    {
      "cell_type": "markdown",
      "metadata": {
        "id": "aLbiGMF8xDEP",
        "colab_type": "text"
      },
      "source": [
        "# **Prediction**\n",
        "說明圖同上\n",
        "\n",
        "![alt text](https://drive.google.com/uc?id=1165ETzZyE6HStqKvgR0gKrJwgFLK6-CW)\n",
        "\n",
        "有了 weight 和測試資料即可預測 target。"
      ]
    },
    {
      "cell_type": "code",
      "metadata": {
        "id": "Xul514ZCxFPB",
        "colab_type": "code",
        "colab": {}
      },
      "source": [
        "w = np.load('weight.npy')\n",
        "ans_y = np.dot(test_x, w)"
      ],
      "execution_count": 0,
      "outputs": []
    },
    {
      "cell_type": "markdown",
      "metadata": {
        "id": "ytw8AdfUxLBp",
        "colab_type": "text"
      },
      "source": [
        "# **Save Prediction to CSV File**\n"
      ]
    },
    {
      "cell_type": "code",
      "metadata": {
        "id": "GO3h880GxJae",
        "colab_type": "code",
        "colab": {}
      },
      "source": [
        "# **Save Prediction to CSV File**"
      ],
      "execution_count": 0,
      "outputs": []
    },
    {
      "cell_type": "code",
      "metadata": {
        "id": "w6UkBEhjxG4w",
        "colab_type": "code",
        "outputId": "070b806e-9a13-49b3-ce22-5edb7187ed5b",
        "colab": {
          "base_uri": "https://localhost:8080/",
          "height": 34
        }
      },
      "source": [
        "import csv\n",
        "with open('submit.csv', mode='w', newline='') as submit_file:\n",
        "    csv_writer = csv.writer(submit_file)\n",
        "    header = ['id', 'value']\n",
        "    print(header)\n",
        "    csv_writer.writerow(header)\n",
        "    for i in range(240):\n",
        "        row = ['id_' + str(i), ans_y[i][0]]\n",
        "        csv_writer.writerow(row)"
      ],
      "execution_count": 0,
      "outputs": [
        {
          "output_type": "stream",
          "text": [
            "['id', 'value']\n"
          ],
          "name": "stdout"
        }
      ]
    },
    {
      "cell_type": "markdown",
      "metadata": {
        "id": "f0mNqMRjxUwn",
        "colab_type": "text"
      },
      "source": [
        "# **Homework1_regression_report**\n",
        "\n",
        "# **作业部分**\n",
        "說明：請各位使用此 template 撰寫 report，如果想要用其他排版模式也請註明題號以及題目內容（請勿擅自更改題號），最後上傳至 GitHub 前，請務必轉成 PDF 檔，並且命名為 report.pdf，否則將不予計分。 中英文皆可，但助教強烈建議使用中文。\n",
        "----------------------------------------閱讀完以上文字請刪除---------------------------------------\n",
        "學號： 系級： 姓名：\n",
        "備註 :\n",
        "a. 1-3題的回答中，NR 請皆設為 0，其他的數值不要做任何更動。\n",
        "b. 可以使用所有 advanced 的 gradient descent 技術（如 Adam、Adagrad）。\n",
        "c. 1-3題請用linear regression的方法進行討論作答。\n",
        "\n",
        "(2%) 使用四種不同的 learning rate 進行 training (其他參數需一致)，作圖並討論其收斂過程（橫軸為 iteration 次數，縱軸為 loss 的大小，四種 learning rate 的收斂線請以不同顏色呈現在一張圖裡做比較）。\n",
        "\n",
        "(1%) 比較取前 5 hrs 和前 9 hrs 的資料（518 + 1 v.s 918 + 1）在 validation set 上預測的結果，並說明造成的可能原因（1. 因為 testing set 預測結果要上傳 Kaggle 後才能得知，所以在報告中並不要求同學們呈現 testing set 的結果，至於什麼是 validation set 請參考：https://youtu.be/D_S6y0Jm6dQ?t=1949 2. 9hr:取前9小時預測第10小時的PM2.5；5hr:在前面的那些features中，以5~9hr預測第10小時的PM2.5。這樣兩者在相同的validation set比例下，會有一樣筆數的資料）。\n",
        "\n",
        "(1%) 比較只取前 9 hrs 的 PM2.5 和取所有前 9 hrs 的 features（91 + 1 vs. 918 + 1）在 validation set上預測的結果，並說明造成的可能原因。\n",
        "\n",
        "(2%) 請說明你超越 baseline 的 model(最後選擇在Kaggle上提交的) 是如何實作的（例如：怎麼進行 feature selection, 有沒有做 pre-processing、learning rate 的調整、advanced gradient descent 技術、不同的 model 等等）。"
      ]
    },
    {
      "cell_type": "markdown",
      "metadata": {
        "id": "35NjIbS0xteK",
        "colab_type": "text"
      },
      "source": [
        "# **1、不同的learning rate**\n",
        "(2%) 使用四種不同的 learning rate 進行 training (其他參數需一致)，作圖並討論其收斂過程（橫軸為 iteration 次數，縱軸為 loss 的大小，四種 learning rate 的收斂線請以不同顏色呈現在一張圖裡做比較）。"
      ]
    },
    {
      "cell_type": "code",
      "metadata": {
        "id": "XsLP2TigxsyB",
        "colab_type": "code",
        "outputId": "c0e42e77-8f7c-4824-c11c-a2a9357f0232",
        "colab": {
          "base_uri": "https://localhost:8080/",
          "height": 296
        }
      },
      "source": [
        "#1、读取文件\n",
        "# data = pd.read_csv('gdrive/My Drive/hw1-regression/train.csv', header = None, encoding = 'big5')\n",
        "data = pd.read_csv('./train.csv', encoding = 'big5')\n",
        "data = data.iloc[:, 3:]\n",
        "data[data == 'NR'] = 0\n",
        "raw_data = data.to_numpy()\n",
        "\n",
        "#2、整理格式\n",
        "month_data = {}\n",
        "for month in range(12):\n",
        "    sample = np.empty([18, 480])\n",
        "    for day in range(20):\n",
        "        sample[:, day * 24 : (day + 1) * 24] = raw_data[18 * (20 * month + day) : 18 * (20 * month + day + 1), :]\n",
        "    month_data[month] = sample\n",
        "# 整理后的文件month_data不再改动,所有不同的预测方式均从month_data提取数据\n",
        "\n",
        "\n",
        "x = np.empty([12 * 471, 18 * 9], dtype = float)\n",
        "y = np.empty([12 * 471, 1], dtype = float)\n",
        "for month in range(12):\n",
        "    for day in range(20):\n",
        "        for hour in range(24):\n",
        "            if day == 19 and hour > 14:\n",
        "                continue\n",
        "            x[month * 471 + day * 24 + hour, :] = month_data[month][:,day * 24 + hour : day * 24 + hour + 9].reshape(1, -1) #vector dim:18*9 (9 9 9 9 9 9 9 9 9 9 9 9 9 9 9 9 9 9)\n",
        "            y[month * 471 + day * 24 + hour, 0] = month_data[month][9, day * 24 + hour + 9] #value\n",
        "\n",
        "mean_x = np.mean(x, axis = 0) #18 * 9 \n",
        "std_x = np.std(x, axis = 0) #18 * 9 \n",
        "for i in range(len(x)): #12 * 471\n",
        "    for j in range(len(x[0])): #18 * 9 \n",
        "        if std_x[j] != 0:\n",
        "            x[i][j] = (x[i][j] - mean_x[j]) / std_x[j]\n",
        "\n",
        "dim = 18 * 9 + 1\n",
        "x = np.concatenate((np.ones([12 * 471, 1]), x), axis = 1).astype(float)\n",
        "\n",
        "learning_rates = [0.01,0.1,1,10,100]\n",
        "lossStat = {}\n",
        "\n",
        "iter_time = 1000\n",
        "record_step = 100\n",
        "eps = 0.0000000001\n",
        "\n",
        "for learning_rate in learning_rates:\n",
        "  Train_X = x;\n",
        "  Train_Y = y;\n",
        "  w = np.zeros([dim, 1])\n",
        "  adagrad = np.zeros([dim, 1])\n",
        "  for t in range(iter_time):\n",
        "    loss = np.sqrt(np.sum(np.power(np.dot(Train_X, w) - Train_Y, 2))/471/12)#rmse\n",
        "    if(t%record_step==0):\n",
        "      lossStat.setdefault(learning_rate,[]).append(loss)\n",
        "    gradient = 2 * np.dot(x.transpose(), np.dot(Train_X, w) - Train_Y) #dim*1\n",
        "    adagrad += gradient ** 2\n",
        "    w = w - learning_rate * gradient / np.sqrt(adagrad + eps)\n",
        "\n",
        "record_steps=list(range(0,iter_time,record_step))\n",
        "\n",
        "import matplotlib.pyplot as plt\n",
        "for learning_rate in learning_rates:\n",
        "  plt.plot(record_steps,lossStat[learning_rate],label=\"learning_rate=\"+str(learning_rate))\n",
        "plt.xlabel(\"record_steps\")\n",
        "plt.ylabel(\"loss\")\n",
        "plt.title(\"loss w.r.t. learning rate\")\n",
        "plt.legend()\n",
        "plt.show()\n"
      ],
      "execution_count": 0,
      "outputs": [
        {
          "output_type": "display_data",
          "data": {
            "image/png": "[encoded data removed]",
            "text/plain": [
              "<Figure size 432x288 with 1 Axes>"
            ]
          },
          "metadata": {
            "tags": [],
            "needs_background": "light"
          }
        }
      ]
    },
    {
      "cell_type": "markdown",
      "metadata": {
        "id": "6XNZfCJi4twh",
        "colab_type": "text"
      },
      "source": [
        "# **2、前5 hrs预测与前9hr预测**\n",
        "(1%) 比較取前 5 hrs 和前 9 hrs 的資料（518 + 1 v.s 918 + 1）在 validation set 上預測的結果，並說明造成的可能原因（1. 因為 testing set 預測結果要上傳 Kaggle 後才能得知，所以在報告中並不要求同學們呈現 testing set 的結果，至於什麼是 validation set 請參考：https://youtu.be/D_S6y0Jm6dQ?t=1949 2. 9hr:取前9小時預測第10小時的PM2.5；5hr:在前面的那些features中，以5~9hr預測第10小時的PM2.5。這樣兩者在相同的validation set比例下，會有一樣筆數的資料）。"
      ]
    },
    {
      "cell_type": "code",
      "metadata": {
        "id": "3dDXhPXW557d",
        "colab_type": "code",
        "outputId": "75a2f575-86d8-4baa-c2a2-b13ab0a8cd8f",
        "colab": {
          "base_uri": "https://localhost:8080/",
          "height": 204
        }
      },
      "source": [
        "#1、读取文件\n",
        "# data = pd.read_csv('gdrive/My Drive/hw1-regression/train.csv', header = None, encoding = 'big5')\n",
        "data = pd.read_csv('./train.csv', encoding = 'big5')\n",
        "data = data.iloc[:, 3:]\n",
        "data[data == 'NR'] = 0\n",
        "raw_data = data.to_numpy()\n",
        "\n",
        "#2、整理格式\n",
        "month_data = {}\n",
        "for month in range(12):\n",
        "    sample = np.empty([18, 480])\n",
        "    for day in range(20):\n",
        "        sample[:, day * 24 : (day + 1) * 24] = raw_data[18 * (20 * month + day) : 18 * (20 * month + day + 1), :]\n",
        "    month_data[month] = sample\n",
        "# 整理后的文件month_data不再改动,所有不同的预测方式均从month_data提取数据\n",
        "\n",
        "x = np.empty([12 * 471, 18 * 9], dtype = float)\n",
        "y = np.empty([12 * 471, 1], dtype = float)\n",
        "for month in range(12):\n",
        "    for day in range(20):\n",
        "        for hour in range(24):\n",
        "            if day == 19 and hour > 14:\n",
        "                continue\n",
        "            x[month * 471 + day * 24 + hour, :] = month_data[month][:,day * 24 + hour : day * 24 + hour + 9].reshape(1, -1) #vector dim:18*9 (9 9 9 9 9 9 9 9 9 9 9 9 9 9 9 9 9 9)\n",
        "            y[month * 471 + day * 24 + hour, 0] = month_data[month][9, day * 24 + hour + 9] #value\n",
        "\n",
        "mean_x = np.mean(x, axis = 0) #18 * 9 \n",
        "std_x = np.std(x, axis = 0) #18 * 9 \n",
        "for i in range(len(x)): #12 * 471\n",
        "    for j in range(len(x[0])): #18 * 9 \n",
        "        if std_x[j] != 0:\n",
        "            x[i][j] = (x[i][j] - mean_x[j]) / std_x[j]\n",
        "\n",
        "# #如果要变换为以5hr 只需要将0-3hr归0即可\n",
        "# for i in range(18):\n",
        "#   x[:,i*9+0:i*9+3]=0\n",
        "\n",
        "import math\n",
        "x_train_set = x[: math.floor(len(x) * 0.8), :]\n",
        "y_train_set = y[: math.floor(len(y) * 0.8), :]\n",
        "x_validation = x[math.floor(len(x) * 0.8): , :]\n",
        "y_validation = y[math.floor(len(y) * 0.8): , :]\n",
        "\n",
        "\n",
        "learning_rates = 10\n",
        "\n",
        "iter_time = 1000\n",
        "record_step = 100\n",
        "eps = 0.0000000001\n",
        "\n",
        "dim = 18 * 9 + 1\n",
        "w = np.zeros([dim, 1])\n",
        "x_train_set = np.concatenate((np.ones([math.floor(len(x) * 0.8), 1]), x_train_set), axis = 1).astype(float)\n",
        "learning_rate = 10\n",
        "iter_time = 1000\n",
        "adagrad = np.zeros([dim, 1])\n",
        "eps = 0.0000000001\n",
        "for t in range(iter_time):\n",
        "    loss = np.sqrt(np.sum(np.power(np.dot(x_train_set, w) - y_train_set, 2))/471/12)#rmse\n",
        "    if(t%100==0):\n",
        "        print(\"9hr: \"+ str(t) + \":\" + str(loss))\n",
        "    gradient = 2 * np.dot(x_train_set.transpose(), np.dot(x_train_set, w) - y_train_set) #dim*1\n",
        "    adagrad += gradient ** 2\n",
        "    w = w - learning_rate * gradient / np.sqrt(adagrad + eps)\n",
        "\n",
        "x_validation = np.concatenate((np.ones([len(x)-math.floor(len(x) * 0.8), 1]), x_validation), axis = 1).astype(float)\n",
        "ans_y = np.dot(x_validation, w)\n",
        "print(\"9hr+full feature: least square Error = \"+ str(  (np.sum((ans_y-y_validation)**2))/y_validation.size)   )\n",
        "\n",
        "\n"
      ],
      "execution_count": 0,
      "outputs": [
        {
          "output_type": "stream",
          "text": [
            "9hr: 0:24.36221492236629\n",
            "9hr: 100:6.561283208061514\n",
            "9hr: 200:5.887833132356354\n",
            "9hr: 300:5.656016404097853\n",
            "9hr: 400:5.5312323406505195\n",
            "9hr: 500:5.450548058200154\n",
            "9hr: 600:5.393304198965544\n",
            "9hr: 700:5.35035032877573\n",
            "9hr: 800:5.31685726009195\n",
            "9hr: 900:5.289986029498695\n",
            "9hr: least square Error = 34.73500679374913\n"
          ],
          "name": "stdout"
        }
      ]
    },
    {
      "cell_type": "markdown",
      "metadata": {
        "id": "pUEoYpzRR6Eu",
        "colab_type": "text"
      },
      "source": [
        "# **3、full feature 与 PM2.5 feature**\n",
        "(1%) 比較只取前 9 hrs 的 PM2.5 和取所有前 9 hrs 的 features（91 + 1 vs. 918 + 1）在 validation set上預測的結果，並說明造成的可能原因。"
      ]
    },
    {
      "cell_type": "code",
      "metadata": {
        "id": "U6JfHZCtOwg0",
        "colab_type": "code",
        "outputId": "730a5678-5698-49e7-a29b-0861dd2d95ac",
        "colab": {
          "base_uri": "https://localhost:8080/",
          "height": 204
        }
      },
      "source": [
        "#1、读取文件\n",
        "# data = pd.read_csv('gdrive/My Drive/hw1-regression/train.csv', header = None, encoding = 'big5')\n",
        "data = pd.read_csv('./train.csv', encoding = 'big5')\n",
        "data = data.iloc[:, 3:]\n",
        "data[data == 'NR'] = 0\n",
        "raw_data = data.to_numpy()\n",
        "\n",
        "#2、整理格式\n",
        "month_data = {}\n",
        "for month in range(12):\n",
        "    sample = np.empty([18, 480])\n",
        "    for day in range(20):\n",
        "        sample[:, day * 24 : (day + 1) * 24] = raw_data[18 * (20 * month + day) : 18 * (20 * month + day + 1), :]\n",
        "    month_data[month] = sample\n",
        "# 整理后的文件month_data不再改动,所有不同的预测方式均从month_data提取数据\n",
        "\n",
        "x = np.empty([12 * 471, 18 * 9], dtype = float)\n",
        "y = np.empty([12 * 471, 1], dtype = float)\n",
        "for month in range(12):\n",
        "    for day in range(20):\n",
        "        for hour in range(24):\n",
        "            if day == 19 and hour > 14:\n",
        "                continue\n",
        "            x[month * 471 + day * 24 + hour, :] = month_data[month][:,day * 24 + hour : day * 24 + hour + 9].reshape(1, -1) #vector dim:18*9 (9 9 9 9 9 9 9 9 9 9 9 9 9 9 9 9 9 9)\n",
        "            y[month * 471 + day * 24 + hour, 0] = month_data[month][9, day * 24 + hour + 9] #value\n",
        "\n",
        "mean_x = np.mean(x, axis = 0) #18 * 9 \n",
        "std_x = np.std(x, axis = 0) #18 * 9 \n",
        "for i in range(len(x)): #12 * 471\n",
        "    for j in range(len(x[0])): #18 * 9 \n",
        "        if std_x[j] != 0:\n",
        "            x[i][j] = (x[i][j] - mean_x[j]) / std_x[j]\n",
        "\n",
        "#如果要变换为以PM2.5为feature 只需要将其余归0即可\n",
        "x[:,0:(9*9)-1]=0\n",
        "x[:,(9*10):]=0\n",
        "\n",
        "import math\n",
        "x_train_set = x[: math.floor(len(x) * 0.8), :]\n",
        "y_train_set = y[: math.floor(len(y) * 0.8), :]\n",
        "x_validation = x[math.floor(len(x) * 0.8): , :]\n",
        "y_validation = y[math.floor(len(y) * 0.8): , :]\n",
        "\n",
        "\n",
        "learning_rates = 10\n",
        "\n",
        "iter_time = 1000\n",
        "record_step = 100\n",
        "eps = 0.0000000001\n",
        "\n",
        "dim = 18 * 9 + 1\n",
        "w = np.zeros([dim, 1])\n",
        "x_train_set = np.concatenate((np.ones([math.floor(len(x) * 0.8), 1]), x_train_set), axis = 1).astype(float)\n",
        "learning_rate = 10\n",
        "iter_time = 1000\n",
        "adagrad = np.zeros([dim, 1])\n",
        "eps = 0.0000000001\n",
        "for t in range(iter_time):\n",
        "    loss = np.sqrt(np.sum(np.power(np.dot(x_train_set, w) - y_train_set, 2))/471/12)#rmse\n",
        "    if(t%100==0):\n",
        "        print(\"9hr: \"+ str(t) + \":\" + str(loss))\n",
        "    gradient = 2 * np.dot(x_train_set.transpose(), np.dot(x_train_set, w) - y_train_set) #dim*1\n",
        "    adagrad += gradient ** 2\n",
        "    w = w - learning_rate * gradient / np.sqrt(adagrad + eps)\n",
        "\n",
        "x_validation = np.concatenate((np.ones([len(x)-math.floor(len(x) * 0.8), 1]), x_validation), axis = 1).astype(float)\n",
        "ans_y = np.dot(x_validation, w)\n",
        "print(\"9hr + PM2.5 only feature: least square Error = \"+ str(  (np.sum((ans_y-y_validation)**2))/y_validation.size)   )"
      ],
      "execution_count": 0,
      "outputs": [
        {
          "output_type": "stream",
          "text": [
            "9hr: 0:24.36221492236629\n",
            "9hr: 100:5.66741636813198\n",
            "9hr: 200:5.518898610942056\n",
            "9hr: 300:5.468823596601537\n",
            "9hr: 400:5.448187851216157\n",
            "9hr: 500:5.439248028453747\n",
            "9hr: 600:5.435303910535845\n",
            "9hr: 700:5.433548424999884\n",
            "9hr: 800:5.43276259621144\n",
            "9hr: 900:5.432409104750174\n",
            "9hr+ PM2.5 only feature: least square Error = 33.17200227176482\n"
          ],
          "name": "stdout"
        }
      ]
    }
  ]
}